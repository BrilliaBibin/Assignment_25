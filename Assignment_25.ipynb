{
 "cells": [
  {
   "cell_type": "raw",
   "id": "6f2f2d87-a6eb-4157-971b-f3342a204a29",
   "metadata": {},
   "source": [
    "1) . What is the difference between enclosing a list comprehension in square brackets and\n",
    "parentheses?\n",
    "\n",
    "      Square brackets are lists which is mutable(can change its contents) while parantheses are tuples which is immutable."
   ]
  },
  {
   "cell_type": "code",
   "execution_count": 2,
   "id": "02275970-0b4b-4dd9-b2d4-28771cb67933",
   "metadata": {},
   "outputs": [
    {
     "data": {
      "text/plain": [
       "[1, 2, 3]"
      ]
     },
     "execution_count": 2,
     "metadata": {},
     "output_type": "execute_result"
    }
   ],
   "source": [
    "x = [1,2]\n",
    "x.append(3)\n",
    "x"
   ]
  },
  {
   "cell_type": "code",
   "execution_count": 6,
   "id": "b5e86ba5-2e83-4408-b562-4812dc87e93e",
   "metadata": {},
   "outputs": [
    {
     "data": {
      "text/plain": [
       "(1, 2)"
      ]
     },
     "execution_count": 6,
     "metadata": {},
     "output_type": "execute_result"
    }
   ],
   "source": [
    "x = (1,2)\n",
    "x"
   ]
  },
  {
   "cell_type": "code",
   "execution_count": 7,
   "id": "c7bf71b8-df09-4a5d-b908-4d4bebe3ec87",
   "metadata": {},
   "outputs": [
    {
     "ename": "AttributeError",
     "evalue": "'tuple' object has no attribute 'append'",
     "output_type": "error",
     "traceback": [
      "\u001b[0;31m---------------------------------------------------------------------------\u001b[0m",
      "\u001b[0;31mAttributeError\u001b[0m                            Traceback (most recent call last)",
      "Cell \u001b[0;32mIn [7], line 1\u001b[0m\n\u001b[0;32m----> 1\u001b[0m \u001b[43mx\u001b[49m\u001b[38;5;241;43m.\u001b[39;49m\u001b[43mappend\u001b[49m(\u001b[38;5;241m3\u001b[39m)\n",
      "\u001b[0;31mAttributeError\u001b[0m: 'tuple' object has no attribute 'append'"
     ]
    }
   ],
   "source": [
    "x.append(3)"
   ]
  },
  {
   "cell_type": "raw",
   "id": "0d6758de-469d-4cc0-8862-299bba80f1ff",
   "metadata": {},
   "source": [
    "The tuple is hashable, meaning that you can use it as a key to a dictionary, among other things."
   ]
  },
  {
   "cell_type": "code",
   "execution_count": 8,
   "id": "85f98ba4-4fb3-479a-b8b6-4a682064eee0",
   "metadata": {},
   "outputs": [
    {
     "data": {
      "text/plain": [
       "{(1, 2): 3}"
      ]
     },
     "execution_count": 8,
     "metadata": {},
     "output_type": "execute_result"
    }
   ],
   "source": [
    "x = (1,2)\n",
    "y = [1,2]\n",
    "z = {}\n",
    "z[x] = 3\n",
    "z"
   ]
  },
  {
   "cell_type": "code",
   "execution_count": 9,
   "id": "b5e41bf3-d8dc-49d1-b288-2b9f993635ad",
   "metadata": {},
   "outputs": [
    {
     "ename": "TypeError",
     "evalue": "unhashable type: 'list'",
     "output_type": "error",
     "traceback": [
      "\u001b[0;31m---------------------------------------------------------------------------\u001b[0m",
      "\u001b[0;31mTypeError\u001b[0m                                 Traceback (most recent call last)",
      "Cell \u001b[0;32mIn [9], line 1\u001b[0m\n\u001b[0;32m----> 1\u001b[0m \u001b[43mz\u001b[49m\u001b[43m[\u001b[49m\u001b[43my\u001b[49m\u001b[43m]\u001b[49m \u001b[38;5;241m=\u001b[39m \u001b[38;5;241m4\u001b[39m\n",
      "\u001b[0;31mTypeError\u001b[0m: unhashable type: 'list'"
     ]
    }
   ],
   "source": [
    "z[y] = 4"
   ]
  },
  {
   "cell_type": "raw",
   "id": "2bcb2d5d-e350-43e6-b51b-72b544cb6c5c",
   "metadata": {},
   "source": [
    "2) What is the relationship between generators and iterators?\n",
    "\n",
    "           Generators simplifies creation of iterators. A generator is a function that produces a sequence of results instead of a single value.\n",
    "           An iterator is an object used to iterate over iterable objects such as lists, tuples, dictionaries, and sets.An object is called iterable if we can get an iterator from it or loop over it. A Python iterator object must implement two specific methods, __iter__() or iter() and __next__() or next() , which are referred to collectively as the iterator protocol.\n",
    "\n"
   ]
  },
  {
   "cell_type": "code",
   "execution_count": 2,
   "id": "dd75be7c-bd0a-4dfd-8099-bfa95bb79f34",
   "metadata": {},
   "outputs": [],
   "source": [
    "def yrange(n):\n",
    "    i = 0\n",
    "    while i < n:\n",
    "        yield i\n",
    "        i += 1"
   ]
  },
  {
   "cell_type": "code",
   "execution_count": 4,
   "id": "a3f1eea7-80a6-465a-9c81-bae715c0d999",
   "metadata": {},
   "outputs": [
    {
     "data": {
      "text/plain": [
       "<generator object yrange at 0x7fb0f5cda260>"
      ]
     },
     "execution_count": 4,
     "metadata": {},
     "output_type": "execute_result"
    }
   ],
   "source": [
    "y=yrange(3)\n",
    "y"
   ]
  },
  {
   "cell_type": "code",
   "execution_count": 5,
   "id": "75fa48ea-2dc1-49db-9e3b-2dda1d082fc2",
   "metadata": {},
   "outputs": [
    {
     "data": {
      "text/plain": [
       "0"
      ]
     },
     "execution_count": 5,
     "metadata": {},
     "output_type": "execute_result"
    }
   ],
   "source": [
    "next(y)"
   ]
  },
  {
   "cell_type": "code",
   "execution_count": 6,
   "id": "065c0042-594c-40da-8f0d-5f150bc7eb1c",
   "metadata": {},
   "outputs": [
    {
     "data": {
      "text/plain": [
       "1"
      ]
     },
     "execution_count": 6,
     "metadata": {},
     "output_type": "execute_result"
    }
   ],
   "source": [
    "next(y)"
   ]
  },
  {
   "cell_type": "code",
   "execution_count": 8,
   "id": "31752ff2-bd15-4fb2-bf58-05b601688ac6",
   "metadata": {},
   "outputs": [
    {
     "data": {
      "text/plain": [
       "2"
      ]
     },
     "execution_count": 8,
     "metadata": {},
     "output_type": "execute_result"
    }
   ],
   "source": [
    "next(y)"
   ]
  },
  {
   "cell_type": "code",
   "execution_count": 9,
   "id": "fbabf4f8-34d8-45f6-895f-67a1e0ed0c11",
   "metadata": {},
   "outputs": [
    {
     "ename": "StopIteration",
     "evalue": "",
     "output_type": "error",
     "traceback": [
      "\u001b[0;31m---------------------------------------------------------------------------\u001b[0m",
      "\u001b[0;31mStopIteration\u001b[0m                             Traceback (most recent call last)",
      "Cell \u001b[0;32mIn [9], line 1\u001b[0m\n\u001b[0;32m----> 1\u001b[0m \u001b[38;5;28;43mnext\u001b[39;49m\u001b[43m(\u001b[49m\u001b[43my\u001b[49m\u001b[43m)\u001b[49m\n",
      "\u001b[0;31mStopIteration\u001b[0m: "
     ]
    }
   ],
   "source": [
    "next(y)"
   ]
  },
  {
   "cell_type": "code",
   "execution_count": 10,
   "id": "c5a0e3d0-7bea-4022-bd69-c44a1b0206f0",
   "metadata": {},
   "outputs": [],
   "source": [
    "class yrange:\n",
    "    def __init__(self, n):\n",
    "        self.i = 0\n",
    "        self.n = n\n",
    "\n",
    "    def __iter__(self):\n",
    "        return self\n",
    "\n",
    "    def __next__(self):\n",
    "        if self.i < self.n:\n",
    "            i = self.i\n",
    "            self.i += 1\n",
    "            return i\n",
    "        else:\n",
    "            raise StopIteration()"
   ]
  },
  {
   "cell_type": "code",
   "execution_count": 14,
   "id": "1ec89ca6-5611-41eb-a0b4-0fba1fef0308",
   "metadata": {},
   "outputs": [
    {
     "data": {
      "text/plain": [
       "0"
      ]
     },
     "execution_count": 14,
     "metadata": {},
     "output_type": "execute_result"
    }
   ],
   "source": [
    "y=yrange(3)\n",
    "next(y)"
   ]
  },
  {
   "cell_type": "code",
   "execution_count": 15,
   "id": "7724ea60-5748-4535-b250-cd84a32bfb16",
   "metadata": {},
   "outputs": [
    {
     "data": {
      "text/plain": [
       "1"
      ]
     },
     "execution_count": 15,
     "metadata": {},
     "output_type": "execute_result"
    }
   ],
   "source": [
    "next(y)"
   ]
  },
  {
   "cell_type": "code",
   "execution_count": 16,
   "id": "fabca9f4-52ba-4a55-8eee-469bfaadf06d",
   "metadata": {},
   "outputs": [
    {
     "data": {
      "text/plain": [
       "2"
      ]
     },
     "execution_count": 16,
     "metadata": {},
     "output_type": "execute_result"
    }
   ],
   "source": [
    "next(y)"
   ]
  },
  {
   "cell_type": "code",
   "execution_count": 17,
   "id": "4b6af7d3-b7c9-44a1-bf3c-7c2677f3ca03",
   "metadata": {},
   "outputs": [
    {
     "ename": "StopIteration",
     "evalue": "",
     "output_type": "error",
     "traceback": [
      "\u001b[0;31m---------------------------------------------------------------------------\u001b[0m",
      "\u001b[0;31mStopIteration\u001b[0m                             Traceback (most recent call last)",
      "Cell \u001b[0;32mIn [17], line 1\u001b[0m\n\u001b[0;32m----> 1\u001b[0m \u001b[38;5;28;43mnext\u001b[39;49m\u001b[43m(\u001b[49m\u001b[43my\u001b[49m\u001b[43m)\u001b[49m\n",
      "Cell \u001b[0;32mIn [10], line 15\u001b[0m, in \u001b[0;36myrange.__next__\u001b[0;34m(self)\u001b[0m\n\u001b[1;32m     13\u001b[0m     \u001b[38;5;28;01mreturn\u001b[39;00m i\n\u001b[1;32m     14\u001b[0m \u001b[38;5;28;01melse\u001b[39;00m:\n\u001b[0;32m---> 15\u001b[0m     \u001b[38;5;28;01mraise\u001b[39;00m \u001b[38;5;167;01mStopIteration\u001b[39;00m()\n",
      "\u001b[0;31mStopIteration\u001b[0m: "
     ]
    }
   ],
   "source": [
    "next(y)"
   ]
  },
  {
   "cell_type": "raw",
   "id": "05ef30ac-167c-497a-a50a-6b2f25c49c3b",
   "metadata": {},
   "source": [
    "3) What are the signs that a function is a generator function?\n",
    "\n",
    "       In a generator function, a yield statement is used rather than a return statement.\n",
    "       Unlike regular functions, generator functions return generator objects. Meaning, when you call a generator function, it doesn't run the function. Instead, it gives you back a generator object.\n",
    "       If you loop over that generator object, it will run the function until a yield statement is reached. At that point the generator object will put itself on pause, and yield the next item. This process will continue over and over until you've consumed all the items within the generator."
   ]
  },
  {
   "cell_type": "code",
   "execution_count": 18,
   "id": "2d1b2112-2fbc-49e2-94df-f29ab61e4dc4",
   "metadata": {},
   "outputs": [],
   "source": [
    "def mygenerator():\n",
    "    print('First item')\n",
    "    yield 10\n",
    "\n",
    "    print('Second item')\n",
    "    yield 20\n",
    "\n",
    "    print('Last item')\n",
    "    yield 30"
   ]
  },
  {
   "cell_type": "code",
   "execution_count": 21,
   "id": "b12edbae-a51d-4257-8361-e37e070d2966",
   "metadata": {},
   "outputs": [
    {
     "name": "stdout",
     "output_type": "stream",
     "text": [
      "First item\n"
     ]
    },
    {
     "data": {
      "text/plain": [
       "10"
      ]
     },
     "execution_count": 21,
     "metadata": {},
     "output_type": "execute_result"
    }
   ],
   "source": [
    "y=mygenerator()\n",
    "next(y)"
   ]
  },
  {
   "cell_type": "code",
   "execution_count": 22,
   "id": "f43ae3cd-1ad6-4734-b8fe-aa01b4fd6a57",
   "metadata": {},
   "outputs": [
    {
     "name": "stdout",
     "output_type": "stream",
     "text": [
      "Second item\n"
     ]
    },
    {
     "data": {
      "text/plain": [
       "20"
      ]
     },
     "execution_count": 22,
     "metadata": {},
     "output_type": "execute_result"
    }
   ],
   "source": [
    "next(y)"
   ]
  },
  {
   "cell_type": "code",
   "execution_count": 23,
   "id": "f50e2398-83a7-432b-b8c8-46e1f40631e9",
   "metadata": {},
   "outputs": [
    {
     "name": "stdout",
     "output_type": "stream",
     "text": [
      "Last item\n"
     ]
    },
    {
     "data": {
      "text/plain": [
       "30"
      ]
     },
     "execution_count": 23,
     "metadata": {},
     "output_type": "execute_result"
    }
   ],
   "source": [
    "next(y)"
   ]
  },
  {
   "cell_type": "code",
   "execution_count": 24,
   "id": "c9bb8133-cdfc-4325-a5d9-d91115680ec4",
   "metadata": {},
   "outputs": [
    {
     "ename": "StopIteration",
     "evalue": "",
     "output_type": "error",
     "traceback": [
      "\u001b[0;31m---------------------------------------------------------------------------\u001b[0m",
      "\u001b[0;31mStopIteration\u001b[0m                             Traceback (most recent call last)",
      "Cell \u001b[0;32mIn [24], line 1\u001b[0m\n\u001b[0;32m----> 1\u001b[0m \u001b[38;5;28;43mnext\u001b[39;49m\u001b[43m(\u001b[49m\u001b[43my\u001b[49m\u001b[43m)\u001b[49m\n",
      "\u001b[0;31mStopIteration\u001b[0m: "
     ]
    }
   ],
   "source": [
    "next(y)"
   ]
  },
  {
   "cell_type": "raw",
   "id": "b07d7daf-1dec-4e0d-b7ab-2cab10376cbf",
   "metadata": {},
   "source": [
    "4) What is the purpose of a yield statement?\n",
    "\n",
    "           The yield keyword in Python controls the flow of a generator function. This is similar to a return statement used for returning values in Python.\n",
    "\n",
    "           The yield keyword will convert an expression that is specified along with it to a generator iterator, and return it to the caller."
   ]
  },
  {
   "cell_type": "code",
   "execution_count": 26,
   "id": "ac651262-9537-498b-b36d-c8caafa856b3",
   "metadata": {},
   "outputs": [
    {
     "name": "stdout",
     "output_type": "stream",
     "text": [
      "<generator object create_generator at 0x7fb0f5a94660>\n"
     ]
    }
   ],
   "source": [
    "def create_generator():\n",
    "    mylist = range(3)\n",
    "    for i in mylist:\n",
    "        yield i*i\n",
    "\n",
    "mygenerator = create_generator() # create a generator\n",
    "print(mygenerator)"
   ]
  },
  {
   "cell_type": "code",
   "execution_count": 27,
   "id": "e1fe1a54-bb24-4400-8415-56228202b0ae",
   "metadata": {},
   "outputs": [
    {
     "name": "stdout",
     "output_type": "stream",
     "text": [
      "0\n",
      "1\n",
      "4\n"
     ]
    }
   ],
   "source": [
    "for i in mygenerator:\n",
    "     print(i)"
   ]
  },
  {
   "cell_type": "raw",
   "id": "65937f19-6c73-4c25-82dd-f34ec7516eb3",
   "metadata": {},
   "source": [
    "5) What is the relationship between map calls and list comprehensions? Make a comparison and\n",
    "contrast between the two.\n",
    "\n",
    "         The map function takes an Expression and an Iterable. The output will be an Iterable object where the expression will work on each element of the given Iterable. The output of each expression will be an element of the resultant Iterable. \n",
    "         \n",
    "syntax: map( expression, iterable) \n",
    "\n",
    "          List Comprehension is a substitute for the lambda function, map(), filter() and reduce(). It follows the form of the mathematical set-builder notation. It provide a concise way to create lists.\n",
    "\n",
    "Syntax: [ expression for item in list if conditional ]\n",
    "\n",
    "\n",
    "*List comprehension is more concise and easier to read as compared to map.\n",
    "*List comprehension allows filtering. In map, we have no such facility. For example, to print all even numbers in range of 100, we can write [n for n in range(100) if n%2 == 0]. There is no alternate for it in map\n",
    "*List comprehension are used when a list of results is required as map only returns a map object and does not return any list.\n",
    "*List comprehension is faster than map when we need to evaluate expressions that are too long or complicated to express\n",
    "Map is faster in case of calling an already defined function (as no lambda is required)."
   ]
  },
  {
   "cell_type": "code",
   "execution_count": 28,
   "id": "300682ce-a977-410c-b47e-7d96905c0fcf",
   "metadata": {},
   "outputs": [
    {
     "name": "stdout",
     "output_type": "stream",
     "text": [
      "<map object at 0x7fb10c5d80d0>\n",
      "[4, 88, 11.0, 12, -14]\n"
     ]
    }
   ],
   "source": [
    "def num (n) :\n",
    "    return n * 2\n",
    "          \n",
    "lst = [2, 44, 5.5, 6, -7]\n",
    "  \n",
    "# creates a map object\n",
    "x = map(num, lst) \n",
    "print(x) \n",
    "  \n",
    "# returns list\n",
    "print(list(x))  "
   ]
  },
  {
   "cell_type": "code",
   "execution_count": 29,
   "id": "0b7bb281-5b85-4d10-bf49-91b3480d65eb",
   "metadata": {},
   "outputs": [
    {
     "name": "stdout",
     "output_type": "stream",
     "text": [
      "[4, 88, 11.0, 12, -14]\n"
     ]
    }
   ],
   "source": [
    "lst = [2, 44, 5.5, 6, -7]\n",
    "  \n",
    "# list comprehension\n",
    "x = [i * 2 for i in lst ] \n",
    "print(x)"
   ]
  }
 ],
 "metadata": {
  "kernelspec": {
   "display_name": "Python 3 (ipykernel)",
   "language": "python",
   "name": "python3"
  },
  "language_info": {
   "codemirror_mode": {
    "name": "ipython",
    "version": 3
   },
   "file_extension": ".py",
   "mimetype": "text/x-python",
   "name": "python",
   "nbconvert_exporter": "python",
   "pygments_lexer": "ipython3",
   "version": "3.10.6"
  }
 },
 "nbformat": 4,
 "nbformat_minor": 5
}
